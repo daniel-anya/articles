{
 "cells": [
  {
   "cell_type": "code",
   "execution_count": 1,
   "metadata": {},
   "outputs": [],
   "source": [
    "from scipy.stats import bernoulli\n",
    "import matplotlib.pyplot as plt\n",
    "import numpy as np"
   ]
  },
  {
   "cell_type": "code",
   "execution_count": 2,
   "metadata": {},
   "outputs": [
    {
     "data": {
      "image/png": "[encoded data removed]",
      "text/plain": [
       "<Figure size 432x288 with 1 Axes>"
      ]
     },
     "metadata": {
      "needs_background": "light"
     },
     "output_type": "display_data"
    }
   ],
   "source": [
    "#biased coin\n",
    "p_biased = 0.8\n",
    "biased_rvs = bernoulli.rvs(p_biased, size = 100000, random_state = 1901)\n",
    "x = [1, 2]\n",
    "y_biased = [sum(biased_rvs), len(biased_rvs) - sum(biased_rvs) ]\n",
    "\n",
    "plt.bar(x, y_biased)\n",
    "plt.xticks(x, ['Heads', 'Tails'])\n",
    "plt.ylabel(\"Event Count\")\n",
    "plt.xlabel(\"Event\")\n",
    "plt.show()"
   ]
  },
  {
   "cell_type": "code",
   "execution_count": 3,
   "metadata": {},
   "outputs": [],
   "source": [
    "def generate_unbiased_tosses(bias_p = 0.8, rvs_size = 100000):\n",
    "    \n",
    "    assert rvs_size % 2 == 0, 'please specify an even sample size'\n",
    "    \n",
    "    unbiased_rvs = []\n",
    "    tosses = list(bernoulli.rvs(bias_p, size = rvs_size * 10, random_state = 2020))\n",
    "    \n",
    "    toss_1_pointer = 0\n",
    "    toss_2_pointer = 1\n",
    "    \n",
    "    #the loop goes on until we've exhausted our biased coin tosses or we've generated\n",
    "    #all the unbiased coin tosses we need \n",
    "    while(toss_2_pointer < len(tosses) and len(unbiased_rvs) < rvs_size):\n",
    "        toss_1 = tosses[toss_1_pointer]\n",
    "        toss_2 = tosses[toss_2_pointer]\n",
    "        \n",
    "        if toss_1 != toss_2:\n",
    "            unbiased_rvs.append(toss_1)\n",
    "        \n",
    "        #advance to next pair of coin tosses\n",
    "        toss_1_pointer += 2\n",
    "        toss_2_pointer += 2\n",
    "        \n",
    "            \n",
    "    return np.array(unbiased_rvs)\n",
    "        \n",
    "        \n",
    "    "
   ]
  },
  {
   "cell_type": "code",
   "execution_count": 4,
   "metadata": {},
   "outputs": [
    {
     "name": "stdout",
     "output_type": "stream",
     "text": [
      "0.50024\n"
     ]
    }
   ],
   "source": [
    "unbiased_rvs = generate_unbiased_tosses()\n",
    "\n",
    "# expected value of the sample\n",
    "print(np.mean(unbiased_rvs))\n"
   ]
  },
  {
   "cell_type": "code",
   "execution_count": 5,
   "metadata": {},
   "outputs": [
    {
     "data": {
      "image/png": "[encoded data removed]",
      "text/plain": [
       "<Figure size 432x288 with 1 Axes>"
      ]
     },
     "metadata": {
      "needs_background": "light"
     },
     "output_type": "display_data"
    }
   ],
   "source": [
    "x = [1, 2]\n",
    "y = [sum(unbiased_rvs), len(unbiased_rvs) - sum(unbiased_rvs) ]\n",
    "\n",
    "plt.bar(x, y)\n",
    "plt.xticks(x, ['Heads', 'Tails'])\n",
    "plt.ylabel(\"Event Count\")\n",
    "plt.xlabel(\"Event\")\n",
    "plt.show()"
   ]
  }
 ],
 "metadata": {
  "kernelspec": {
   "display_name": "Python 3",
   "language": "python",
   "name": "python3"
  },
  "language_info": {
   "codemirror_mode": {
    "name": "ipython",
    "version": 3
   },
   "file_extension": ".py",
   "mimetype": "text/x-python",
   "name": "python",
   "nbconvert_exporter": "python",
   "pygments_lexer": "ipython3",
   "version": "3.7.3"
  }
 },
 "nbformat": 4,
 "nbformat_minor": 4
}
